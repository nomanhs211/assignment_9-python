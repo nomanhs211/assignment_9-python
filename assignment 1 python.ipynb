{
 "cells": [
  {
   "cell_type": "code",
   "execution_count": 26,
   "metadata": {},
   "outputs": [
    {
     "name": "stdout",
     "output_type": "stream",
     "text": [
      "Enter first number: 4\n",
      "Enter Second number: 2\n",
      "Enter Operator (+, -, /, *)-\n",
      "2\n"
     ]
    }
   ],
   "source": [
    "#1)simple calculator programme\n",
    "\n",
    "\n",
    "a = int(input(\"Enter first number: \"))\n",
    "b = int(input(\"Enter Second number: \"))\n",
    "c = input(\"Enter Operator (+, -, /, *)\")\n",
    "\n",
    "if c=='+':\n",
    "    print(a+b)\n",
    "elif c=='-':\n",
    "       print( a - b )\n",
    "elif c=='/':\n",
    "         print( a / b )\n",
    "elif c=='*':\n",
    "    print( a * b )\n",
    "else:\n",
    "    print(\"Unknown\")\n",
    "\n",
    "\n"
   ]
  },
  {
   "cell_type": "code",
   "execution_count": 23,
   "metadata": {
    "scrolled": true
   },
   "outputs": [
    {
     "name": "stdout",
     "output_type": "stream",
     "text": [
      "a)Accounting: 90\n",
      "b)Economics: 67\n",
      "c)Urdu: 78\n",
      "d)English: 78\n",
      "e)Islamic Study: 67\n",
      "Grade: B\n"
     ]
    }
   ],
   "source": [
    "#2)python programme , Subject's Marks and the Grade.\n",
    "\n",
    "a = int(input(\"a)Accounting: \"))\n",
    "b = int(input(\"b)Economics: \"))\n",
    "c = int(input(\"c)Urdu: \"))\n",
    "d = int(input(\"d)English: \"))\n",
    "e = int(input(\"e)Islamic Study: \"))\n",
    "\n",
    "\n",
    "\n",
    "if a < 33 or b < 33 or c < 33 or d<33 or e<33 :\n",
    "    print(\"Oh Your are fail\")\n",
    "elif a >=80 and b >= 80 and c >= 80 and d >= 80 and e >= 80:\n",
    "    print(\"Grade: A+\")\n",
    "elif a >=70 and b >= 70 and c >= 70 and d >= 70 and e >= 70:\n",
    "        print(\"Grade: A\")\n",
    "elif a >=60 and b >= 60 and c >= 60 and d >= 60 and e >= 60:\n",
    "            print(\"Grade: B\")\n",
    "elif a >=50 and b >= 50 and c >= 50 and d >= 50 and e >= 50:\n",
    "            print(\"Grade: C\")\n",
    "else:\n",
    "    print(\"Congratulations you have passed the exam.\")\n",
    "\n",
    "    \n"
   ]
  },
  {
   "cell_type": "code",
   "execution_count": null,
   "metadata": {},
   "outputs": [],
   "source": [
    "\n",
    "\n",
    "\n",
    "\n"
   ]
  },
  {
   "cell_type": "code",
   "execution_count": null,
   "metadata": {},
   "outputs": [],
   "source": []
  },
  {
   "cell_type": "code",
   "execution_count": null,
   "metadata": {},
   "outputs": [],
   "source": []
  }
 ],
 "metadata": {
  "kernelspec": {
   "display_name": "Python 3",
   "language": "python",
   "name": "python3"
  },
  "language_info": {
   "codemirror_mode": {
    "name": "ipython",
    "version": 3
   },
   "file_extension": ".py",
   "mimetype": "text/x-python",
   "name": "python",
   "nbconvert_exporter": "python",
   "pygments_lexer": "ipython3",
   "version": "3.7.6"
  }
 },
 "nbformat": 4,
 "nbformat_minor": 4
}
